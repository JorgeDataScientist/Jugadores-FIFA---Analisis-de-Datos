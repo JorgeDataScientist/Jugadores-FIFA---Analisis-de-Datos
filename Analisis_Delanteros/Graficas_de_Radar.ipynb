{
 "cells": [
  {
   "cell_type": "markdown",
   "metadata": {},
   "source": [
    "<p align=\"center\">\n",
    "  <img src=\"imagenes_publicacion/baggio1.png\" alt=\"Descripción de la imagen\">\n",
    "</p>"
   ]
  },
  {
   "cell_type": "markdown",
   "metadata": {},
   "source": [
    "# **<center>Todas Las Graficas de Radar</center>**"
   ]
  },
  {
   "cell_type": "markdown",
   "metadata": {},
   "source": [
    "<p align=\"center\">\n",
    "  <img src=\"graficas_de_radar/ronaldo1.png\" alt=\"Descripción de la imagen\">\n",
    "</p>"
   ]
  },
  {
   "cell_type": "markdown",
   "metadata": {},
   "source": [
    "<p align=\"center\">\n",
    "  <img src=\"graficas_de_radar/ronaldo2.png\" alt=\"Descripción de la imagen\">\n",
    "</p>"
   ]
  },
  {
   "cell_type": "markdown",
   "metadata": {},
   "source": [
    "<p align=\"center\">\n",
    "  <img src=\"graficas_de_radar/suarez1.png\" alt=\"Descripción de la imagen\">\n",
    "</p>"
   ]
  },
  {
   "cell_type": "markdown",
   "metadata": {},
   "source": [
    "<p align=\"center\">\n",
    "  <img src=\"graficas_de_radar/suarez2.png\" alt=\"Descripción de la imagen\">\n",
    "</p>"
   ]
  },
  {
   "cell_type": "markdown",
   "metadata": {},
   "source": [
    "<p align=\"center\">\n",
    "  <img src=\"graficas_de_radar/hazard1.png\" alt=\"Descripción de la imagen\">\n",
    "</p>"
   ]
  },
  {
   "cell_type": "markdown",
   "metadata": {},
   "source": [
    "<p align=\"center\">\n",
    "  <img src=\"graficas_de_radar/hazard2.png\" alt=\"Descripción de la imagen\">\n",
    "</p>"
   ]
  },
  {
   "cell_type": "markdown",
   "metadata": {},
   "source": [
    "<p align=\"center\">\n",
    "  <img src=\"graficas_de_radar/bale1.png\" alt=\"Descripción de la imagen\">\n",
    "</p>"
   ]
  },
  {
   "cell_type": "markdown",
   "metadata": {},
   "source": [
    "<p align=\"center\">\n",
    "  <img src=\"graficas_de_radar/bale2.png\" alt=\"Descripción de la imagen\">\n",
    "</p>"
   ]
  },
  {
   "cell_type": "markdown",
   "metadata": {},
   "source": [
    "<p align=\"center\">\n",
    "  <img src=\"graficas_de_radar/aguero1.png\" alt=\"Descripción de la imagen\">\n",
    "</p>"
   ]
  },
  {
   "cell_type": "markdown",
   "metadata": {},
   "source": [
    "<p align=\"center\">\n",
    "  <img src=\"graficas_de_radar/aguero2.png\" alt=\"Descripción de la imagen\">\n",
    "</p>"
   ]
  },
  {
   "cell_type": "markdown",
   "metadata": {},
   "source": [
    "<p align=\"center\">\n",
    "  <img src=\"graficas_de_radar/kane1.png\" alt=\"Descripción de la imagen\">\n",
    "</p>"
   ]
  },
  {
   "cell_type": "markdown",
   "metadata": {},
   "source": [
    "<p align=\"center\">\n",
    "  <img src=\"graficas_de_radar/kane2.png\" alt=\"Descripción de la imagen\">\n",
    "</p>"
   ]
  },
  {
   "cell_type": "markdown",
   "metadata": {},
   "source": [
    "<p align=\"center\">\n",
    "  <img src=\"graficas_de_radar/Griezmann1.png\" alt=\"Descripción de la imagen\">\n",
    "</p>"
   ]
  },
  {
   "cell_type": "markdown",
   "metadata": {},
   "source": [
    "<p align=\"center\">\n",
    "  <img src=\"graficas_de_radar/Griezmann2.png\" alt=\"Descripción de la imagen\">\n",
    "</p>"
   ]
  },
  {
   "cell_type": "markdown",
   "metadata": {},
   "source": [
    "<p align=\"center\">\n",
    "  <img src=\"graficas_de_radar/Lewandowski1.png\" alt=\"Descripción de la imagen\">\n",
    "</p>"
   ]
  },
  {
   "cell_type": "markdown",
   "metadata": {},
   "source": [
    "<p align=\"center\">\n",
    "  <img src=\"graficas_de_radar/Lewandowski2.png\" alt=\"Descripción de la imagen\">\n",
    "</p>"
   ]
  },
  {
   "cell_type": "markdown",
   "metadata": {},
   "source": [
    "<p align=\"center\">\n",
    "  <img src=\"graficas_de_radar/salah1.png\" alt=\"Descripción de la imagen\">\n",
    "</p>"
   ]
  },
  {
   "cell_type": "markdown",
   "metadata": {},
   "source": [
    "<p align=\"center\">\n",
    "  <img src=\"graficas_de_radar/salah2.png\" alt=\"Descripción de la imagen\">\n",
    "</p>"
   ]
  }
 ],
 "metadata": {
  "language_info": {
   "name": "python"
  }
 },
 "nbformat": 4,
 "nbformat_minor": 2
}
